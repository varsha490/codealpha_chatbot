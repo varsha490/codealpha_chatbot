{
 "cells": [
  {
   "cell_type": "code",
   "execution_count": 1,
   "id": "71e5fd99-7d70-4556-9f53-ec2b7dc352f9",
   "metadata": {},
   "outputs": [
    {
     "name": "stdout",
     "output_type": "stream",
     "text": [
      "Hello! I'm your FAQ assistant. Ask me anything about the product or type 'bye' to exit.\n"
     ]
    },
    {
     "name": "stdin",
     "output_type": "stream",
     "text": [
      "You:  bye\n"
     ]
    },
    {
     "name": "stdout",
     "output_type": "stream",
     "text": [
      "Chatbot: Goodbye! Have a great day!\n"
     ]
    }
   ],
   "source": [
    "faqs = [\n",
    "    (\"return policy\", \"You can return the product within 30 days.\"),\n",
    "    (\"shipping time\", \"Shipping takes 5-7 business days.\"),\n",
    "    (\"international shipping\", \"We ship to most countries worldwide.\"),\n",
    "    (\"track order\", \"You will get a tracking number when your order ships.\"),\n",
    "    (\"payment methods\", \"We accept credit cards, PayPal, and bank transfers.\"),\n",
    "]\n",
    "\n",
    "def preprocess(text):\n",
    "    return text.lower().split()\n",
    "\n",
    "def find_best_faq(user_question):\n",
    "    user_tokens = set(preprocess(user_question))\n",
    "    max_overlap = 0\n",
    "    best_answer = None\n",
    "    for question, answer in faqs:\n",
    "        question_tokens = set(preprocess(question))\n",
    "        overlap = len(user_tokens.intersection(question_tokens))\n",
    "        if overlap > max_overlap:\n",
    "            max_overlap = overlap\n",
    "            best_answer = answer\n",
    "    return best_answer\n",
    "\n",
    "def chatbot():\n",
    "    print(\"Hello! I'm your FAQ assistant. Ask me anything about the product or type 'bye' to exit.\")\n",
    "    while True:\n",
    "        user_input = input(\"You: \").strip()\n",
    "        if user_input.lower() in [\"bye\", \"exit\", \"quit\"]:\n",
    "            print(\"Chatbot: Goodbye! Have a great day!\")\n",
    "            break\n",
    "        elif user_input.lower() in [\"thank you\", \"thanks\"]:\n",
    "            print(\"Chatbot: You're welcome! How else can I assist?\")\n",
    "        else:\n",
    "            answer = find_best_faq(user_input)\n",
    "            if answer:\n",
    "                print(f\"Chatbot: {answer}\")\n",
    "            else:\n",
    "                print(\"Chatbot: Sorry, I couldn't find an answer to your question. Please try asking differently.\")\n",
    "\n",
    "# Run chatbot conversation loop\n",
    "chatbot()\n"
   ]
  },
  {
   "cell_type": "code",
   "execution_count": 3,
   "id": "df904ba1-b910-413f-bf33-fe18c55f921f",
   "metadata": {},
   "outputs": [
    {
     "name": "stdout",
     "output_type": "stream",
     "text": [
      "\n",
      "==================================================\n",
      "🤖 User Question: How do I return the product if I don't like it?\n",
      "❓ Matched FAQ Question: Return Policy\n",
      "💡 Answer: You can return the product within 30 days.\n",
      "==================================================\n",
      "\n"
     ]
    }
   ],
   "source": [
    "# Simple lightweight FAQ chatbot using keyword matching with formatted output\n",
    "\n",
    "faqs = [\n",
    "    (\"return policy\", \"You can return the product within 30 days.\"),\n",
    "    (\"shipping time\", \"Shipping takes 5-7 business days.\"),\n",
    "    (\"international shipping\", \"We ship to most countries worldwide.\"),\n",
    "    (\"track order\", \"You will get a tracking number when your order ships.\"),\n",
    "    (\"payment methods\", \"We accept credit cards, PayPal, and bank transfers.\"),\n",
    "]\n",
    "\n",
    "def preprocess(text):\n",
    "    return text.lower().split()\n",
    "\n",
    "def find_best_faq(user_question):\n",
    "    user_tokens = set(preprocess(user_question))\n",
    "    max_overlap = 0\n",
    "    best_answer = None\n",
    "    for question, answer in faqs:\n",
    "        question_tokens = set(preprocess(question))\n",
    "        overlap = len(user_tokens.intersection(question_tokens))\n",
    "        if overlap > max_overlap:\n",
    "            max_overlap = overlap\n",
    "            best_answer = (question, answer)\n",
    "    return best_answer\n",
    "\n",
    "def print_response(user_input):\n",
    "    result = find_best_faq(user_input)\n",
    "    if result:\n",
    "        question, answer = result\n",
    "        print(\"\\n\" + \"=\"*50)\n",
    "        print(f\"🤖 User Question: {user_input}\")\n",
    "        print(f\"❓ Matched FAQ Question: {question.title()}\")\n",
    "        print(f\"💡 Answer: {answer}\")\n",
    "        print(\"=\"*50 + \"\\n\")\n",
    "    else:\n",
    "        print(\"\\nSorry, I couldn't find an answer to your question.\\n\")\n",
    "\n",
    "# Example usage\n",
    "user_input = \"How do I return the product if I don't like it?\"\n",
    "print_response(user_input)\n"
   ]
  },
  {
   "cell_type": "code",
   "execution_count": 1,
   "id": "28ccd77a-0e54-4c4a-b2ac-ff216ed3bb2e",
   "metadata": {},
   "outputs": [
    {
     "name": "stdout",
     "output_type": "stream",
     "text": [
      "Hello! I'm your FAQ assistant. Ask me anything about the product or type 'bye' to exit.\n"
     ]
    },
    {
     "name": "stdin",
     "output_type": "stream",
     "text": [
      "You:  hello\n"
     ]
    },
    {
     "name": "stdout",
     "output_type": "stream",
     "text": [
      "Chatbot: Sorry, I couldn't find an answer to your question. Please try asking differently.\n"
     ]
    },
    {
     "name": "stdin",
     "output_type": "stream",
     "text": [
      "You:  bye\n"
     ]
    },
    {
     "name": "stdout",
     "output_type": "stream",
     "text": [
      "Chatbot: Goodbye! Have a great day!\n"
     ]
    }
   ],
   "source": [
    "faqs = [\n",
    "    (\"return policy\", \"You can return the product within 30 days.\"),\n",
    "    (\"shipping time\", \"Shipping takes 5-7 business days.\"),\n",
    "    (\"international shipping\", \"We ship to most countries worldwide.\"),\n",
    "    (\"track order\", \"You will get a tracking number when your order ships.\"),\n",
    "    (\"payment methods\", \"We accept credit cards, PayPal, and bank transfers.\"),\n",
    "]\n",
    "\n",
    "def preprocess(text):\n",
    "    return text.lower().split()\n",
    "\n",
    "def find_best_faq(user_question):\n",
    "    user_tokens = set(preprocess(user_question))\n",
    "    max_overlap = 0\n",
    "    best_answer = None\n",
    "    for question, answer in faqs:\n",
    "        question_tokens = set(preprocess(question))\n",
    "        overlap = len(user_tokens.intersection(question_tokens))\n",
    "        if overlap > max_overlap:\n",
    "            max_overlap = overlap\n",
    "            best_answer = answer\n",
    "    return best_answer\n",
    "\n",
    "def chatbot():\n",
    "    print(\"Hello! I'm your FAQ assistant. Ask me anything about the product or type 'bye' to exit.\")\n",
    "    while True:\n",
    "        user_input = input(\"You: \").strip()\n",
    "        if user_input.lower() in [\"bye\", \"exit\", \"quit\"]:\n",
    "            print(\"Chatbot: Goodbye! Have a great day!\")\n",
    "            break\n",
    "        elif user_input.lower() in [\"thank you\", \"thanks\"]:\n",
    "            print(\"Chatbot: You're welcome! How else can I assist?\")\n",
    "        else:\n",
    "            answer = find_best_faq(user_input)\n",
    "            if answer:\n",
    "                print(f\"Chatbot: {answer}\")\n",
    "            else:\n",
    "                print(\"Chatbot: Sorry, I couldn't find an answer to your question. Please try asking differently.\")\n",
    "\n",
    "# Run chatbot conversation loop\n",
    "chatbot()\n"
   ]
  },
  {
   "cell_type": "code",
   "execution_count": null,
   "id": "ac3a3b1c-725c-4ac2-8e5c-08b0a91e2665",
   "metadata": {},
   "outputs": [],
   "source": []
  }
 ],
 "metadata": {
  "kernelspec": {
   "display_name": "Python [conda env:base] *",
   "language": "python",
   "name": "conda-base-py"
  },
  "language_info": {
   "codemirror_mode": {
    "name": "ipython",
    "version": 3
   },
   "file_extension": ".py",
   "mimetype": "text/x-python",
   "name": "python",
   "nbconvert_exporter": "python",
   "pygments_lexer": "ipython3",
   "version": "3.12.7"
  }
 },
 "nbformat": 4,
 "nbformat_minor": 5
}
